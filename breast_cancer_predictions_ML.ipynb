{
 "cells": [
  {
   "cell_type": "markdown",
   "id": "cc25d9fe",
   "metadata": {},
   "source": [
    "# Breast Cancer OS and PFS Dataset\n",
    "\n",
    "Maching Leanring to predict survival time in breast cancer patients"
   ]
  },
  {
   "cell_type": "markdown",
   "id": "2a1e8524",
   "metadata": {},
   "source": [
    "## Part 1: Import essential libraries"
   ]
  },
  {
   "cell_type": "code",
   "execution_count": 19,
   "id": "c76a7fb5",
   "metadata": {},
   "outputs": [
    {
     "name": "stdout",
     "output_type": "stream",
     "text": [
      "['.ipynb_checkpoints', 'breast_cancer_predictions_ML.ipynb', 'breast_cancer_data_ML.csv']\n"
     ]
    }
   ],
   "source": [
    "import pandas as pd\n",
    "import numpy as np\n",
    "import matplotlib.pyplot as plt\n",
    "import seaborn as sns\n",
    "\n",
    "%matplotlib inline\n",
    "\n",
    "import os\n",
    "print(os.listdir())"
   ]
  },
  {
   "cell_type": "markdown",
   "id": "5cfb28e7",
   "metadata": {},
   "source": [
    "## Part 2: Importing and Understanding Datasets"
   ]
  },
  {
   "cell_type": "code",
   "execution_count": 20,
   "id": "ea7efbf6",
   "metadata": {},
   "outputs": [],
   "source": [
    "df = pd.read_csv(\"breast_cancer_data_ML.csv\")"
   ]
  },
  {
   "cell_type": "markdown",
   "id": "d46b3f88",
   "metadata": {},
   "source": [
    "#### Verifying it as a 'dataframe' object in pandas"
   ]
  },
  {
   "cell_type": "code",
   "execution_count": 21,
   "id": "29a14e1e",
   "metadata": {},
   "outputs": [
    {
     "data": {
      "text/plain": [
       "pandas.core.frame.DataFrame"
      ]
     },
     "execution_count": 21,
     "metadata": {},
     "output_type": "execute_result"
    }
   ],
   "source": [
    "type(df)"
   ]
  },
  {
   "cell_type": "markdown",
   "id": "26483408",
   "metadata": {},
   "source": [
    "#### Getting shape of dataset"
   ]
  },
  {
   "cell_type": "code",
   "execution_count": 22,
   "id": "8b23fa1c",
   "metadata": {},
   "outputs": [
    {
     "data": {
      "text/plain": [
       "(198, 22)"
      ]
     },
     "execution_count": 22,
     "metadata": {},
     "output_type": "execute_result"
    }
   ],
   "source": [
    "df.shape"
   ]
  },
  {
   "cell_type": "markdown",
   "id": "437b4f87",
   "metadata": {},
   "source": [
    "#### Describing dataset"
   ]
  },
  {
   "cell_type": "code",
   "execution_count": 23,
   "id": "9f46cf7a",
   "metadata": {},
   "outputs": [
    {
     "data": {
      "text/html": [
       "<div>\n",
       "<style scoped>\n",
       "    .dataframe tbody tr th:only-of-type {\n",
       "        vertical-align: middle;\n",
       "    }\n",
       "\n",
       "    .dataframe tbody tr th {\n",
       "        vertical-align: top;\n",
       "    }\n",
       "\n",
       "    .dataframe thead th {\n",
       "        text-align: right;\n",
       "    }\n",
       "</style>\n",
       "<table border=\"1\" class=\"dataframe\">\n",
       "  <thead>\n",
       "    <tr style=\"text-align: right;\">\n",
       "      <th></th>\n",
       "      <th>Patient</th>\n",
       "      <th>MAF of gene used at baseline</th>\n",
       "      <th>MAF of gene used at 4 weeks</th>\n",
       "      <th>CTCs counts at baseline</th>\n",
       "      <th>CTCs counts at 4 weeks</th>\n",
       "      <th>AGE</th>\n",
       "      <th>PS</th>\n",
       "      <th>OS at baseline</th>\n",
       "      <th>Status OS</th>\n",
       "      <th>PFS at baseline</th>\n",
       "      <th>Status PFS</th>\n",
       "      <th>PFS from weeks 4</th>\n",
       "      <th>OS from weeks 4</th>\n",
       "    </tr>\n",
       "  </thead>\n",
       "  <tbody>\n",
       "    <tr>\n",
       "      <th>count</th>\n",
       "      <td>198.000000</td>\n",
       "      <td>198.000000</td>\n",
       "      <td>191.000000</td>\n",
       "      <td>198.000000</td>\n",
       "      <td>196.000000</td>\n",
       "      <td>198.000000</td>\n",
       "      <td>198.000000</td>\n",
       "      <td>198.000000</td>\n",
       "      <td>198.000000</td>\n",
       "      <td>198.000000</td>\n",
       "      <td>198.000000</td>\n",
       "      <td>198.000000</td>\n",
       "      <td>198.000000</td>\n",
       "    </tr>\n",
       "    <tr>\n",
       "      <th>mean</th>\n",
       "      <td>161.338384</td>\n",
       "      <td>11.149242</td>\n",
       "      <td>2.402723</td>\n",
       "      <td>413.161616</td>\n",
       "      <td>167.908163</td>\n",
       "      <td>55.888889</td>\n",
       "      <td>0.464646</td>\n",
       "      <td>30.277778</td>\n",
       "      <td>0.722222</td>\n",
       "      <td>13.540404</td>\n",
       "      <td>0.954545</td>\n",
       "      <td>12.595960</td>\n",
       "      <td>29.318182</td>\n",
       "    </tr>\n",
       "    <tr>\n",
       "      <th>std</th>\n",
       "      <td>88.570266</td>\n",
       "      <td>17.464211</td>\n",
       "      <td>7.691348</td>\n",
       "      <td>2777.528762</td>\n",
       "      <td>1985.385962</td>\n",
       "      <td>10.956202</td>\n",
       "      <td>0.500013</td>\n",
       "      <td>16.408448</td>\n",
       "      <td>0.449039</td>\n",
       "      <td>11.754074</td>\n",
       "      <td>0.208827</td>\n",
       "      <td>11.749863</td>\n",
       "      <td>16.388518</td>\n",
       "    </tr>\n",
       "    <tr>\n",
       "      <th>min</th>\n",
       "      <td>1.000000</td>\n",
       "      <td>0.000000</td>\n",
       "      <td>0.000000</td>\n",
       "      <td>0.000000</td>\n",
       "      <td>0.000000</td>\n",
       "      <td>29.000000</td>\n",
       "      <td>0.000000</td>\n",
       "      <td>3.000000</td>\n",
       "      <td>0.000000</td>\n",
       "      <td>1.000000</td>\n",
       "      <td>0.000000</td>\n",
       "      <td>0.000000</td>\n",
       "      <td>2.000000</td>\n",
       "    </tr>\n",
       "    <tr>\n",
       "      <th>25%</th>\n",
       "      <td>91.750000</td>\n",
       "      <td>0.000000</td>\n",
       "      <td>0.000000</td>\n",
       "      <td>0.000000</td>\n",
       "      <td>0.000000</td>\n",
       "      <td>47.000000</td>\n",
       "      <td>0.000000</td>\n",
       "      <td>15.000000</td>\n",
       "      <td>0.000000</td>\n",
       "      <td>6.000000</td>\n",
       "      <td>1.000000</td>\n",
       "      <td>5.000000</td>\n",
       "      <td>14.000000</td>\n",
       "    </tr>\n",
       "    <tr>\n",
       "      <th>50%</th>\n",
       "      <td>161.500000</td>\n",
       "      <td>3.890000</td>\n",
       "      <td>0.000000</td>\n",
       "      <td>4.000000</td>\n",
       "      <td>0.000000</td>\n",
       "      <td>57.000000</td>\n",
       "      <td>0.000000</td>\n",
       "      <td>30.000000</td>\n",
       "      <td>1.000000</td>\n",
       "      <td>10.000000</td>\n",
       "      <td>1.000000</td>\n",
       "      <td>9.000000</td>\n",
       "      <td>29.000000</td>\n",
       "    </tr>\n",
       "    <tr>\n",
       "      <th>75%</th>\n",
       "      <td>237.500000</td>\n",
       "      <td>14.067500</td>\n",
       "      <td>1.015000</td>\n",
       "      <td>32.500000</td>\n",
       "      <td>3.000000</td>\n",
       "      <td>65.000000</td>\n",
       "      <td>1.000000</td>\n",
       "      <td>43.750000</td>\n",
       "      <td>1.000000</td>\n",
       "      <td>17.750000</td>\n",
       "      <td>1.000000</td>\n",
       "      <td>16.750000</td>\n",
       "      <td>42.750000</td>\n",
       "    </tr>\n",
       "    <tr>\n",
       "      <th>max</th>\n",
       "      <td>313.000000</td>\n",
       "      <td>84.800000</td>\n",
       "      <td>54.980000</td>\n",
       "      <td>30000.000000</td>\n",
       "      <td>27710.000000</td>\n",
       "      <td>77.000000</td>\n",
       "      <td>1.000000</td>\n",
       "      <td>62.000000</td>\n",
       "      <td>1.000000</td>\n",
       "      <td>60.000000</td>\n",
       "      <td>1.000000</td>\n",
       "      <td>59.000000</td>\n",
       "      <td>61.000000</td>\n",
       "    </tr>\n",
       "  </tbody>\n",
       "</table>\n",
       "</div>"
      ],
      "text/plain": [
       "          Patient  MAF of gene used at baseline  MAF of gene used at 4 weeks  \\\n",
       "count  198.000000                    198.000000                   191.000000   \n",
       "mean   161.338384                     11.149242                     2.402723   \n",
       "std     88.570266                     17.464211                     7.691348   \n",
       "min      1.000000                      0.000000                     0.000000   \n",
       "25%     91.750000                      0.000000                     0.000000   \n",
       "50%    161.500000                      3.890000                     0.000000   \n",
       "75%    237.500000                     14.067500                     1.015000   \n",
       "max    313.000000                     84.800000                    54.980000   \n",
       "\n",
       "       CTCs counts at baseline  CTCs counts at 4 weeks           AGE  \\\n",
       "count               198.000000                196.000000  198.000000   \n",
       "mean                413.161616                167.908163   55.888889   \n",
       "std                2777.528762               1985.385962   10.956202   \n",
       "min                   0.000000                  0.000000   29.000000   \n",
       "25%                   0.000000                  0.000000   47.000000   \n",
       "50%                   4.000000                  0.000000   57.000000   \n",
       "75%                  32.500000                  3.000000   65.000000   \n",
       "max               30000.000000              27710.000000   77.000000   \n",
       "\n",
       "               PS  OS at baseline   Status OS  PFS at baseline  Status PFS  \\\n",
       "count  198.000000      198.000000  198.000000       198.000000  198.000000   \n",
       "mean     0.464646       30.277778    0.722222        13.540404    0.954545   \n",
       "std      0.500013       16.408448    0.449039        11.754074    0.208827   \n",
       "min      0.000000        3.000000    0.000000         1.000000    0.000000   \n",
       "25%      0.000000       15.000000    0.000000         6.000000    1.000000   \n",
       "50%      0.000000       30.000000    1.000000        10.000000    1.000000   \n",
       "75%      1.000000       43.750000    1.000000        17.750000    1.000000   \n",
       "max      1.000000       62.000000    1.000000        60.000000    1.000000   \n",
       "\n",
       "       PFS from weeks 4  OS from weeks 4  \n",
       "count        198.000000       198.000000  \n",
       "mean          12.595960        29.318182  \n",
       "std           11.749863        16.388518  \n",
       "min            0.000000         2.000000  \n",
       "25%            5.000000        14.000000  \n",
       "50%            9.000000        29.000000  \n",
       "75%           16.750000        42.750000  \n",
       "max           59.000000        61.000000  "
      ]
     },
     "execution_count": 23,
     "metadata": {},
     "output_type": "execute_result"
    }
   ],
   "source": [
    "df.describe()"
   ]
  },
  {
   "cell_type": "markdown",
   "id": "1f302c5e",
   "metadata": {},
   "source": [
    "#### Printing first 5 rows"
   ]
  },
  {
   "cell_type": "code",
   "execution_count": 24,
   "id": "9f83ec9a",
   "metadata": {},
   "outputs": [
    {
     "data": {
      "text/html": [
       "<div>\n",
       "<style scoped>\n",
       "    .dataframe tbody tr th:only-of-type {\n",
       "        vertical-align: middle;\n",
       "    }\n",
       "\n",
       "    .dataframe tbody tr th {\n",
       "        vertical-align: top;\n",
       "    }\n",
       "\n",
       "    .dataframe thead th {\n",
       "        text-align: right;\n",
       "    }\n",
       "</style>\n",
       "<table border=\"1\" class=\"dataframe\">\n",
       "  <thead>\n",
       "    <tr style=\"text-align: right;\">\n",
       "      <th></th>\n",
       "      <th>Patient</th>\n",
       "      <th>Mutation</th>\n",
       "      <th>MAF of gene used at baseline</th>\n",
       "      <th>MAF of gene used at 4 weeks</th>\n",
       "      <th>CTCs counts at baseline</th>\n",
       "      <th>CTCs counts at 4 weeks</th>\n",
       "      <th>AGE</th>\n",
       "      <th>PS</th>\n",
       "      <th>metastatic site</th>\n",
       "      <th>N of met. Sites</th>\n",
       "      <th>...</th>\n",
       "      <th>OS at baseline</th>\n",
       "      <th>Status OS</th>\n",
       "      <th>PFS at baseline</th>\n",
       "      <th>Status PFS</th>\n",
       "      <th>PFS from weeks 4</th>\n",
       "      <th>OS from weeks 4</th>\n",
       "      <th>meno.status</th>\n",
       "      <th>MFI</th>\n",
       "      <th>Met.sites</th>\n",
       "      <th>Histology</th>\n",
       "    </tr>\n",
       "  </thead>\n",
       "  <tbody>\n",
       "    <tr>\n",
       "      <th>0</th>\n",
       "      <td>1</td>\n",
       "      <td>No mutated</td>\n",
       "      <td>0.00</td>\n",
       "      <td>NaN</td>\n",
       "      <td>0</td>\n",
       "      <td>0.0</td>\n",
       "      <td>69</td>\n",
       "      <td>0</td>\n",
       "      <td>Visceral</td>\n",
       "      <td>&lt; 3</td>\n",
       "      <td>...</td>\n",
       "      <td>20</td>\n",
       "      <td>1</td>\n",
       "      <td>6</td>\n",
       "      <td>1</td>\n",
       "      <td>5</td>\n",
       "      <td>19</td>\n",
       "      <td>Postmenopausal</td>\n",
       "      <td>Sup à 6 months</td>\n",
       "      <td>Other</td>\n",
       "      <td>Other</td>\n",
       "    </tr>\n",
       "    <tr>\n",
       "      <th>1</th>\n",
       "      <td>3</td>\n",
       "      <td>PTEN</td>\n",
       "      <td>9.44</td>\n",
       "      <td>0.00</td>\n",
       "      <td>0</td>\n",
       "      <td>0.0</td>\n",
       "      <td>73</td>\n",
       "      <td>0</td>\n",
       "      <td>No visceral</td>\n",
       "      <td>&lt; 3</td>\n",
       "      <td>...</td>\n",
       "      <td>33</td>\n",
       "      <td>1</td>\n",
       "      <td>16</td>\n",
       "      <td>1</td>\n",
       "      <td>15</td>\n",
       "      <td>32</td>\n",
       "      <td>Postmenopausal</td>\n",
       "      <td>Sup à 6 months</td>\n",
       "      <td>Other</td>\n",
       "      <td>Lobular</td>\n",
       "    </tr>\n",
       "    <tr>\n",
       "      <th>2</th>\n",
       "      <td>5</td>\n",
       "      <td>PTEN</td>\n",
       "      <td>4.27</td>\n",
       "      <td>0.00</td>\n",
       "      <td>6</td>\n",
       "      <td>0.0</td>\n",
       "      <td>37</td>\n",
       "      <td>0</td>\n",
       "      <td>Visceral</td>\n",
       "      <td>&lt; 3</td>\n",
       "      <td>...</td>\n",
       "      <td>61</td>\n",
       "      <td>0</td>\n",
       "      <td>23</td>\n",
       "      <td>1</td>\n",
       "      <td>22</td>\n",
       "      <td>60</td>\n",
       "      <td>Premenopausal</td>\n",
       "      <td>Sup à 6 months</td>\n",
       "      <td>Liver +/- other</td>\n",
       "      <td>Other</td>\n",
       "    </tr>\n",
       "    <tr>\n",
       "      <th>3</th>\n",
       "      <td>6</td>\n",
       "      <td>TP53</td>\n",
       "      <td>14.60</td>\n",
       "      <td>0.34</td>\n",
       "      <td>7</td>\n",
       "      <td>1.0</td>\n",
       "      <td>41</td>\n",
       "      <td>1</td>\n",
       "      <td>Visceral</td>\n",
       "      <td>&gt;=3</td>\n",
       "      <td>...</td>\n",
       "      <td>31</td>\n",
       "      <td>1</td>\n",
       "      <td>8</td>\n",
       "      <td>1</td>\n",
       "      <td>7</td>\n",
       "      <td>30</td>\n",
       "      <td>Premenopausal</td>\n",
       "      <td>Sup à 6 months</td>\n",
       "      <td>Other</td>\n",
       "      <td>Lobular</td>\n",
       "    </tr>\n",
       "    <tr>\n",
       "      <th>4</th>\n",
       "      <td>11</td>\n",
       "      <td>PIK3CA</td>\n",
       "      <td>9.62</td>\n",
       "      <td>0.00</td>\n",
       "      <td>10</td>\n",
       "      <td>0.0</td>\n",
       "      <td>48</td>\n",
       "      <td>0</td>\n",
       "      <td>No visceral</td>\n",
       "      <td>&gt;=3</td>\n",
       "      <td>...</td>\n",
       "      <td>31</td>\n",
       "      <td>1</td>\n",
       "      <td>13</td>\n",
       "      <td>1</td>\n",
       "      <td>12</td>\n",
       "      <td>30</td>\n",
       "      <td>Premenopausal</td>\n",
       "      <td>&lt;= 6 months</td>\n",
       "      <td>Other</td>\n",
       "      <td>Other</td>\n",
       "    </tr>\n",
       "  </tbody>\n",
       "</table>\n",
       "<p>5 rows × 22 columns</p>\n",
       "</div>"
      ],
      "text/plain": [
       "   Patient    Mutation  MAF of gene used at baseline  \\\n",
       "0        1  No mutated                          0.00   \n",
       "1        3        PTEN                          9.44   \n",
       "2        5        PTEN                          4.27   \n",
       "3        6        TP53                         14.60   \n",
       "4       11      PIK3CA                          9.62   \n",
       "\n",
       "   MAF of gene used at 4 weeks  CTCs counts at baseline  \\\n",
       "0                          NaN                        0   \n",
       "1                         0.00                        0   \n",
       "2                         0.00                        6   \n",
       "3                         0.34                        7   \n",
       "4                         0.00                       10   \n",
       "\n",
       "   CTCs counts at 4 weeks    AGE  PS metastatic site N of met. Sites  ...  \\\n",
       "0                       0.0   69   0        Visceral             < 3  ...   \n",
       "1                       0.0   73   0     No visceral             < 3  ...   \n",
       "2                       0.0   37   0        Visceral             < 3  ...   \n",
       "3                       1.0   41   1        Visceral             >=3  ...   \n",
       "4                       0.0   48   0     No visceral             >=3  ...   \n",
       "\n",
       "  OS at baseline Status OS  PFS at baseline  Status PFS  PFS from weeks 4  \\\n",
       "0             20         1                6           1                 5   \n",
       "1             33         1               16           1                15   \n",
       "2             61         0               23           1                22   \n",
       "3             31         1                8           1                 7   \n",
       "4             31         1               13           1                12   \n",
       "\n",
       "   OS from weeks 4      meno.status             MFI        Met.sites Histology  \n",
       "0               19   Postmenopausal  Sup à 6 months            Other     Other  \n",
       "1               32   Postmenopausal  Sup à 6 months            Other   Lobular  \n",
       "2               60    Premenopausal  Sup à 6 months  Liver +/- other     Other  \n",
       "3               30    Premenopausal  Sup à 6 months            Other   Lobular  \n",
       "4               30    Premenopausal     <= 6 months            Other     Other  \n",
       "\n",
       "[5 rows x 22 columns]"
      ]
     },
     "execution_count": 24,
     "metadata": {},
     "output_type": "execute_result"
    }
   ],
   "source": [
    "df.head()"
   ]
  },
  {
   "cell_type": "markdown",
   "id": "9b007e41",
   "metadata": {},
   "source": [
    "## Understanding Columns\n",
    "\n",
    "#### Features in the Dataset\n",
    "\n",
    "- **Patient ID:** Identifier, not feature for prediction.\n",
    "- **Mutation:** Genetic mutations present in cancerous cells (e.g., PTEN, TP53, PIK3CA) which can influence the aggressiveness of the cancer and potential response to therapy.\n",
    "- **MAF of Gene at Baseline and 4 Weeks:** Measures the mutation allele frequency (MAF) at baseline and after 4 weeks, providing insights into the genetic evolution of the tumor under treatment.\n",
    "- **CTCs Counts at Baseline and 4 Weeks:** Circulating tumor cells (CTCs) can indicate the extent of tumor burden and might predict metastasis.\n",
    "- **Age:** Age of the patient at diagnosis, which is a known risk factor in breast cancer prognosis.\n",
    "- **PS (Performance Status):** A measure of how the disease affects a patient's daily living abilities; lower scores typically indicate better functioning.\n",
    "- **Metastatic Site:** The location of metastases can influence prognosis; for example, visceral metastases are often associated with poorer outcomes compared to bone metastases.\n",
    "- **Number of Metastatic Sites:** Indicates disease burden; more sites can correlate with a more advanced or aggressive disease.\n",
    "- **Subtype:** Breast cancer subtype (e.g., Triple Negative, RH+) which is crucial for determining treatment strategy and prognosis.\n",
    "- **Tumor Grade:** Indicates the aggressiveness of the tumor based on how much the cancer cells differ from healthy cells.\n",
    "- **OS (Overall Survival) at Baseline and OS from Weeks 4:** Survival time from the initial diagnosis and from week 4 respectively.\n",
    "- **Status OS:** The status (e.g., alive, deceased) at the last follow-up, potentially used as a target variable for survival analysis.\n",
    "- **PFS (Progression-Free Survival) at Baseline and PFS from Weeks 4:** Time during and after the treatment that the patient lives without the disease worsening.\n",
    "- **Status PFS:** Similar to Status OS, indicates whether the disease has progressed as of the last follow-up.\n",
    "- **Menopausal Status:** Hormonal status can impact the disease's behavior and treatment responses.\n",
    "- **MFI (Metastatic Free Interval):** Time between initial diagnosis and the development of metastases.\n",
    "- **Metastatic Sites:** Specific sites where metastases are present, which could be critical for prognosis.\n",
    "- **Histology:** The study of the tissue origin and structure of the cancer; certain histological types may be more aggressive."
   ]
  },
  {
   "cell_type": "markdown",
   "id": "69c888a0",
   "metadata": {},
   "source": [
    "#### Checking for missing values"
   ]
  },
  {
   "cell_type": "code",
   "execution_count": 25,
   "id": "0bdad6a8",
   "metadata": {},
   "outputs": [
    {
     "name": "stdout",
     "output_type": "stream",
     "text": [
      "<class 'pandas.core.frame.DataFrame'>\n",
      "RangeIndex: 198 entries, 0 to 197\n",
      "Data columns (total 22 columns):\n",
      " #   Column                        Non-Null Count  Dtype  \n",
      "---  ------                        --------------  -----  \n",
      " 0   Patient                       198 non-null    int64  \n",
      " 1   Mutation                      198 non-null    object \n",
      " 2   MAF of gene used at baseline  198 non-null    float64\n",
      " 3   MAF of gene used at 4 weeks   191 non-null    float64\n",
      " 4   CTCs counts at baseline       198 non-null    int64  \n",
      " 5   CTCs counts at 4 weeks        196 non-null    float64\n",
      " 6   AGE                           198 non-null    int64  \n",
      " 7   PS                            198 non-null    int64  \n",
      " 8   metastatic site               197 non-null    object \n",
      " 9   N of met. Sites               197 non-null    object \n",
      " 10  subtype                       198 non-null    object \n",
      " 11  Tumor grade                   181 non-null    object \n",
      " 12  OS at baseline                198 non-null    int64  \n",
      " 13  Status OS                     198 non-null    int64  \n",
      " 14  PFS at baseline               198 non-null    int64  \n",
      " 15  Status PFS                    198 non-null    int64  \n",
      " 16  PFS from weeks 4              198 non-null    int64  \n",
      " 17  OS from weeks 4               198 non-null    int64  \n",
      " 18  meno.status                   196 non-null    object \n",
      " 19  MFI                           194 non-null    object \n",
      " 20  Met.sites                     197 non-null    object \n",
      " 21  Histology                     195 non-null    object \n",
      "dtypes: float64(3), int64(10), object(9)\n",
      "memory usage: 34.2+ KB\n"
     ]
    }
   ],
   "source": [
    "df.info()"
   ]
  },
  {
   "cell_type": "markdown",
   "id": "ec39c7a5",
   "metadata": {},
   "source": [
    "#### Update: Missing values detected (see above)\n",
    "\n",
    "Breakdown of where missing values are:\n",
    "\n",
    "- MAF of gene used at 4 weeks: Out of 198 entries, only 191 are non-null. This means there are 7 missing values in this column.\n",
    "\n",
    "- CTCs counts at 4 weeks: 196 non-null entries suggest 2 missing values.\n",
    "\n",
    "- metastatic site: With 197 non-null entries, there is 1 missing value.\n",
    "\n",
    "- N of met. Sites: Similarly, with 197 non-null entries, there is 1 missing value.\n",
    "\n",
    "- Tumor grade: There are 17 missing values since only 181 out of 198 entries are non-null.\n",
    "\n",
    "- meno.status: This has 2 missing values, with 196 non-null entries.\n",
    "\n",
    "- MFI: There are 4 missing values, as it has 194 non-null entries.\n",
    "\n",
    "- Met.sites: This also indicates 1 missing value, with 197 non-null entries.\n",
    "\n",
    "- Histology: There are 3 missing values, with 195 non-null entries.\n",
    "\n",
    "Handling of missing values is required before analysis can proceed. Techniques such as imputation, removal, or substitution, can be used depending on significance of data and the intended analysis."
   ]
  },
  {
   "cell_type": "markdown",
   "id": "b52e4138",
   "metadata": {},
   "source": [
    "#### Analysing potential 'target' variable"
   ]
  },
  {
   "cell_type": "code",
   "execution_count": 26,
   "id": "a05d6094",
   "metadata": {},
   "outputs": [
    {
     "data": {
      "text/plain": [
       "count    198.000000\n",
       "mean      29.318182\n",
       "std       16.388518\n",
       "min        2.000000\n",
       "25%       14.000000\n",
       "50%       29.000000\n",
       "75%       42.750000\n",
       "max       61.000000\n",
       "Name: OS from weeks 4, dtype: float64"
      ]
     },
     "execution_count": 26,
     "metadata": {},
     "output_type": "execute_result"
    }
   ],
   "source": [
    "df[\"OS from weeks 4\"].describe()"
   ]
  },
  {
   "cell_type": "code",
   "execution_count": 27,
   "id": "94763e7c",
   "metadata": {},
   "outputs": [
    {
     "data": {
      "text/plain": [
       "array([19, 32, 60, 30, 59, 38, 12,  7, 51, 17, 61,  9, 37, 29, 27, 22, 48,\n",
       "       31, 20, 11, 58, 40,  2, 35,  8, 18, 55, 50, 33,  4, 10, 26, 44, 57,\n",
       "       45, 15, 54,  3, 24, 52, 53, 36, 49, 47, 14, 46, 39, 21,  5,  6, 28,\n",
       "       13, 43, 42, 16, 34, 41])"
      ]
     },
     "execution_count": 27,
     "metadata": {},
     "output_type": "execute_result"
    }
   ],
   "source": [
    "df[\"OS from weeks 4\"].unique()"
   ]
  },
  {
   "cell_type": "markdown",
   "id": "bb1162b0",
   "metadata": {},
   "source": [
    "#### Target variables has a range of values and so clustering or regression techniques will be used"
   ]
  },
  {
   "cell_type": "markdown",
   "id": "5a090fab",
   "metadata": {},
   "source": [
    "### Checking correlation between columns\n",
    "Selecting columns with integers only for now"
   ]
  },
  {
   "cell_type": "code",
   "execution_count": 28,
   "id": "7a400f37",
   "metadata": {},
   "outputs": [
    {
     "name": "stdout",
     "output_type": "stream",
     "text": [
      "OS from weeks 4            1.000000\n",
      "OS at baseline             0.999853\n",
      "PFS from weeks 4           0.612825\n",
      "PFS at baseline            0.612645\n",
      "Status OS                  0.583899\n",
      "Patient                    0.262240\n",
      "PS                         0.092468\n",
      "Status PFS                 0.092162\n",
      "AGE                        0.010319\n",
      "CTCs counts at baseline    0.001602\n",
      "Name: OS from weeks 4, dtype: float64\n"
     ]
    }
   ],
   "source": [
    "integer_columns = df.select_dtypes(include=['int64']).columns\n",
    "print(df[integer_columns].corr()[\"OS from weeks 4\"].abs().sort_values(ascending=False))"
   ]
  },
  {
   "cell_type": "code",
   "execution_count": 29,
   "id": "4d560904",
   "metadata": {},
   "outputs": [
    {
     "name": "stdout",
     "output_type": "stream",
     "text": [
      "Status OS                  1.000000\n",
      "OS at baseline             0.584720\n",
      "OS from weeks 4            0.583899\n",
      "PFS at baseline            0.480180\n",
      "PFS from weeks 4           0.479336\n",
      "Status PFS                 0.351866\n",
      "CTCs counts at baseline    0.080276\n",
      "Patient                    0.039616\n",
      "PS                         0.035169\n",
      "AGE                        0.017655\n",
      "Name: Status OS, dtype: float64\n"
     ]
    }
   ],
   "source": [
    "integer_columns = df.select_dtypes(include=['int64']).columns\n",
    "print(df[integer_columns].corr()[\"Status OS\"].abs().sort_values(ascending=False))"
   ]
  },
  {
   "cell_type": "markdown",
   "id": "4372ed7b",
   "metadata": {},
   "source": [
    "## Exploratory Data Analysis"
   ]
  },
  {
   "cell_type": "code",
   "execution_count": 30,
   "id": "b2d06e6e",
   "metadata": {},
   "outputs": [
    {
     "data": {
      "image/png": "[encoded data removed]",
      "text/plain": [
       "<Figure size 800x400 with 1 Axes>"
      ]
     },
     "metadata": {},
     "output_type": "display_data"
    },
    {
     "name": "stdout",
     "output_type": "stream",
     "text": [
      "Status OS\n",
      "1    143\n",
      "0     55\n",
      "Name: count, dtype: int64\n"
     ]
    }
   ],
   "source": [
    "import seaborn as sns\n",
    "import matplotlib.pyplot as plt\n",
    "\n",
    "# Set up the figure for plotting\n",
    "plt.figure(figsize=(8, 4))\n",
    "\n",
    "# Plotting 'Status OS' counts\n",
    "sns.countplot(x=df[\"Status OS\"])\n",
    "\n",
    "# Adding title and labels to improve clarity\n",
    "plt.title('Count of Survival Status')\n",
    "plt.xlabel('Status OS')\n",
    "plt.ylabel('Count')\n",
    "\n",
    "# Display the plot\n",
    "plt.show()\n",
    "\n",
    "# Printing the value counts of 'Status OS'\n",
    "target_status_OS = df[\"Status OS\"].value_counts()\n",
    "print(target_status_OS)\n"
   ]
  },
  {
   "cell_type": "markdown",
   "id": "38de89e2",
   "metadata": {},
   "source": [
    "# Kaplan-Meier Curve"
   ]
  },
  {
   "cell_type": "code",
   "execution_count": 31,
   "id": "cbf71433",
   "metadata": {},
   "outputs": [
    {
     "name": "stdout",
     "output_type": "stream",
     "text": [
      "Requirement already satisfied: lifelines in /home/rburke/anaconda3/lib/python3.11/site-packages (0.28.0)\n",
      "Requirement already satisfied: numpy<2.0,>=1.14.0 in /home/rburke/anaconda3/lib/python3.11/site-packages (from lifelines) (1.24.3)\n",
      "Requirement already satisfied: scipy>=1.2.0 in /home/rburke/anaconda3/lib/python3.11/site-packages (from lifelines) (1.11.1)\n",
      "Requirement already satisfied: pandas>=1.2.0 in /home/rburke/anaconda3/lib/python3.11/site-packages (from lifelines) (2.0.3)\n",
      "Requirement already satisfied: matplotlib>=3.0 in /home/rburke/anaconda3/lib/python3.11/site-packages (from lifelines) (3.7.2)\n",
      "Requirement already satisfied: autograd>=1.5 in /home/rburke/anaconda3/lib/python3.11/site-packages (from lifelines) (1.6.2)\n",
      "Requirement already satisfied: autograd-gamma>=0.3 in /home/rburke/anaconda3/lib/python3.11/site-packages (from lifelines) (0.5.0)\n",
      "Requirement already satisfied: formulaic>=0.2.2 in /home/rburke/anaconda3/lib/python3.11/site-packages (from lifelines) (1.0.1)\n",
      "Requirement already satisfied: future>=0.15.2 in /home/rburke/anaconda3/lib/python3.11/site-packages (from autograd>=1.5->lifelines) (0.18.3)\n",
      "Requirement already satisfied: interface-meta>=1.2.0 in /home/rburke/anaconda3/lib/python3.11/site-packages (from formulaic>=0.2.2->lifelines) (1.3.0)\n",
      "Requirement already satisfied: typing-extensions>=4.2.0 in /home/rburke/anaconda3/lib/python3.11/site-packages (from formulaic>=0.2.2->lifelines) (4.7.1)\n",
      "Requirement already satisfied: wrapt>=1.0 in /home/rburke/anaconda3/lib/python3.11/site-packages (from formulaic>=0.2.2->lifelines) (1.14.1)\n",
      "Requirement already satisfied: contourpy>=1.0.1 in /home/rburke/anaconda3/lib/python3.11/site-packages (from matplotlib>=3.0->lifelines) (1.0.5)\n",
      "Requirement already satisfied: cycler>=0.10 in /home/rburke/anaconda3/lib/python3.11/site-packages (from matplotlib>=3.0->lifelines) (0.11.0)\n",
      "Requirement already satisfied: fonttools>=4.22.0 in /home/rburke/anaconda3/lib/python3.11/site-packages (from matplotlib>=3.0->lifelines) (4.25.0)\n",
      "Requirement already satisfied: kiwisolver>=1.0.1 in /home/rburke/anaconda3/lib/python3.11/site-packages (from matplotlib>=3.0->lifelines) (1.4.4)\n",
      "Requirement already satisfied: packaging>=20.0 in /home/rburke/anaconda3/lib/python3.11/site-packages (from matplotlib>=3.0->lifelines) (23.1)\n",
      "Requirement already satisfied: pillow>=6.2.0 in /home/rburke/anaconda3/lib/python3.11/site-packages (from matplotlib>=3.0->lifelines) (9.4.0)\n",
      "Requirement already satisfied: pyparsing<3.1,>=2.3.1 in /home/rburke/anaconda3/lib/python3.11/site-packages (from matplotlib>=3.0->lifelines) (3.0.9)\n",
      "Requirement already satisfied: python-dateutil>=2.7 in /home/rburke/anaconda3/lib/python3.11/site-packages (from matplotlib>=3.0->lifelines) (2.8.2)\n",
      "Requirement already satisfied: pytz>=2020.1 in /home/rburke/anaconda3/lib/python3.11/site-packages (from pandas>=1.2.0->lifelines) (2023.3.post1)\n",
      "Requirement already satisfied: tzdata>=2022.1 in /home/rburke/anaconda3/lib/python3.11/site-packages (from pandas>=1.2.0->lifelines) (2023.3)\n",
      "Requirement already satisfied: six>=1.5 in /home/rburke/anaconda3/lib/python3.11/site-packages (from python-dateutil>=2.7->matplotlib>=3.0->lifelines) (1.16.0)\n",
      "Note: you may need to restart the kernel to use updated packages.\n"
     ]
    }
   ],
   "source": [
    "pip install lifelines"
   ]
  },
  {
   "cell_type": "code",
   "execution_count": 32,
   "id": "9a779835",
   "metadata": {},
   "outputs": [
    {
     "data": {
      "image/png": "[encoded data removed]",
      "text/plain": [
       "<Figure size 640x480 with 1 Axes>"
      ]
     },
     "metadata": {},
     "output_type": "display_data"
    }
   ],
   "source": [
    "import pandas as pd\n",
    "from lifelines import KaplanMeierFitter\n",
    "import matplotlib.pyplot as plt\n",
    "\n",
    "# Inititative KaplanMeierFitter model\n",
    "kmf = KaplanMeierFitter()\n",
    "\n",
    "# Fit the model\n",
    "kmf.fit(durations=df[\"OS from weeks 4\"], event_observed=df[\"Status OS\"])\n",
    "\n",
    "# Plot the KM survival curve\n",
    "kmf.plot_survival_function()\n",
    "\n",
    "# Add title and labels\n",
    "plt.title('Kaplan-Meier Survival Curve')\n",
    "plt.xlabel('Time in weeks')\n",
    "plt.ylabel('Survival Probability')\n",
    "\n",
    "# Show plot\n",
    "plt.show()"
   ]
  },
  {
   "cell_type": "markdown",
   "id": "ee49ee2b",
   "metadata": {},
   "source": [
    "**Final figure will be plotted in R using ggplot2 and survminer packages**"
   ]
  },
  {
   "cell_type": "code",
   "execution_count": 16,
   "id": "72abd295",
   "metadata": {},
   "outputs": [],
   "source": [
    "from lifelines import CoxPHFitter"
   ]
  },
  {
   "cell_type": "code",
   "execution_count": 17,
   "id": "7dbab901",
   "metadata": {},
   "outputs": [
    {
     "ename": "ValueError",
     "evalue": "could not convert string to float: 'TP53'",
     "output_type": "error",
     "traceback": [
      "\u001b[0;31m---------------------------------------------------------------------------\u001b[0m",
      "\u001b[0;31mValueError\u001b[0m                                Traceback (most recent call last)",
      "Cell \u001b[0;32mIn[17], line 3\u001b[0m\n\u001b[1;32m      1\u001b[0m \u001b[38;5;66;03m# Fit the Cox Proportional Hazards model\u001b[39;00m\n\u001b[1;32m      2\u001b[0m cph \u001b[38;5;241m=\u001b[39m CoxPHFitter()\n\u001b[0;32m----> 3\u001b[0m cph\u001b[38;5;241m.\u001b[39mfit(df, duration_col\u001b[38;5;241m=\u001b[39m\u001b[38;5;124m'\u001b[39m\u001b[38;5;124mOS from weeks 4\u001b[39m\u001b[38;5;124m'\u001b[39m, event_col\u001b[38;5;241m=\u001b[39m\u001b[38;5;124m'\u001b[39m\u001b[38;5;124mStatus OS\u001b[39m\u001b[38;5;124m'\u001b[39m, show_progress\u001b[38;5;241m=\u001b[39m\u001b[38;5;28;01mTrue\u001b[39;00m)\n\u001b[1;32m      5\u001b[0m \u001b[38;5;66;03m# Print the summary of the model\u001b[39;00m\n\u001b[1;32m      6\u001b[0m \u001b[38;5;28mprint\u001b[39m(cph\u001b[38;5;241m.\u001b[39msummary)\n",
      "File \u001b[0;32m~/anaconda3/lib/python3.11/site-packages/lifelines/utils/__init__.py:56\u001b[0m, in \u001b[0;36mCensoringType.right_censoring.<locals>.f\u001b[0;34m(model, *args, **kwargs)\u001b[0m\n\u001b[1;32m     53\u001b[0m \u001b[38;5;129m@wraps\u001b[39m(function)\n\u001b[1;32m     54\u001b[0m \u001b[38;5;28;01mdef\u001b[39;00m \u001b[38;5;21mf\u001b[39m(model, \u001b[38;5;241m*\u001b[39margs, \u001b[38;5;241m*\u001b[39m\u001b[38;5;241m*\u001b[39mkwargs):\n\u001b[1;32m     55\u001b[0m     \u001b[38;5;28mcls\u001b[39m\u001b[38;5;241m.\u001b[39mset_censoring_type(model, \u001b[38;5;28mcls\u001b[39m\u001b[38;5;241m.\u001b[39mRIGHT)\n\u001b[0;32m---> 56\u001b[0m     \u001b[38;5;28;01mreturn\u001b[39;00m function(model, \u001b[38;5;241m*\u001b[39margs, \u001b[38;5;241m*\u001b[39m\u001b[38;5;241m*\u001b[39mkwargs)\n",
      "File \u001b[0;32m~/anaconda3/lib/python3.11/site-packages/lifelines/fitters/coxph_fitter.py:290\u001b[0m, in \u001b[0;36mCoxPHFitter.fit\u001b[0;34m(self, df, duration_col, event_col, show_progress, initial_point, strata, weights_col, cluster_col, robust, batch_mode, timeline, formula, entry_col, fit_options)\u001b[0m\n\u001b[1;32m    184\u001b[0m \u001b[38;5;250m\u001b[39m\u001b[38;5;124;03m\"\"\"\u001b[39;00m\n\u001b[1;32m    185\u001b[0m \u001b[38;5;124;03mFit the Cox proportional hazard model to a right-censored dataset. Alias of `fit_right_censoring`.\u001b[39;00m\n\u001b[1;32m    186\u001b[0m \n\u001b[0;32m   (...)\u001b[0m\n\u001b[1;32m    287\u001b[0m \n\u001b[1;32m    288\u001b[0m \u001b[38;5;124;03m\"\"\"\u001b[39;00m\n\u001b[1;32m    289\u001b[0m \u001b[38;5;28mself\u001b[39m\u001b[38;5;241m.\u001b[39mstrata \u001b[38;5;241m=\u001b[39m utils\u001b[38;5;241m.\u001b[39m_to_list_or_singleton(utils\u001b[38;5;241m.\u001b[39mcoalesce(strata, \u001b[38;5;28mself\u001b[39m\u001b[38;5;241m.\u001b[39mstrata))\n\u001b[0;32m--> 290\u001b[0m \u001b[38;5;28mself\u001b[39m\u001b[38;5;241m.\u001b[39m_model \u001b[38;5;241m=\u001b[39m \u001b[38;5;28mself\u001b[39m\u001b[38;5;241m.\u001b[39m_fit_model(\n\u001b[1;32m    291\u001b[0m     df,\n\u001b[1;32m    292\u001b[0m     duration_col,\n\u001b[1;32m    293\u001b[0m     event_col\u001b[38;5;241m=\u001b[39mevent_col,\n\u001b[1;32m    294\u001b[0m     show_progress\u001b[38;5;241m=\u001b[39mshow_progress,\n\u001b[1;32m    295\u001b[0m     initial_point\u001b[38;5;241m=\u001b[39minitial_point,\n\u001b[1;32m    296\u001b[0m     strata\u001b[38;5;241m=\u001b[39m\u001b[38;5;28mself\u001b[39m\u001b[38;5;241m.\u001b[39mstrata,\n\u001b[1;32m    297\u001b[0m     weights_col\u001b[38;5;241m=\u001b[39mweights_col,\n\u001b[1;32m    298\u001b[0m     cluster_col\u001b[38;5;241m=\u001b[39mcluster_col,\n\u001b[1;32m    299\u001b[0m     robust\u001b[38;5;241m=\u001b[39mrobust,\n\u001b[1;32m    300\u001b[0m     batch_mode\u001b[38;5;241m=\u001b[39mbatch_mode,\n\u001b[1;32m    301\u001b[0m     timeline\u001b[38;5;241m=\u001b[39mtimeline,\n\u001b[1;32m    302\u001b[0m     formula\u001b[38;5;241m=\u001b[39mformula,\n\u001b[1;32m    303\u001b[0m     entry_col\u001b[38;5;241m=\u001b[39mentry_col,\n\u001b[1;32m    304\u001b[0m     fit_options\u001b[38;5;241m=\u001b[39mfit_options,\n\u001b[1;32m    305\u001b[0m )\n\u001b[1;32m    306\u001b[0m \u001b[38;5;28;01mreturn\u001b[39;00m \u001b[38;5;28mself\u001b[39m\n",
      "File \u001b[0;32m~/anaconda3/lib/python3.11/site-packages/lifelines/fitters/coxph_fitter.py:610\u001b[0m, in \u001b[0;36mCoxPHFitter._fit_model\u001b[0;34m(self, *args, **kwargs)\u001b[0m\n\u001b[1;32m    608\u001b[0m \u001b[38;5;28;01mdef\u001b[39;00m \u001b[38;5;21m_fit_model\u001b[39m(\u001b[38;5;28mself\u001b[39m, \u001b[38;5;241m*\u001b[39margs, \u001b[38;5;241m*\u001b[39m\u001b[38;5;241m*\u001b[39mkwargs):\n\u001b[1;32m    609\u001b[0m     \u001b[38;5;28;01mif\u001b[39;00m \u001b[38;5;28mself\u001b[39m\u001b[38;5;241m.\u001b[39mbaseline_estimation_method \u001b[38;5;241m==\u001b[39m \u001b[38;5;124m\"\u001b[39m\u001b[38;5;124mbreslow\u001b[39m\u001b[38;5;124m\"\u001b[39m:\n\u001b[0;32m--> 610\u001b[0m         \u001b[38;5;28;01mreturn\u001b[39;00m \u001b[38;5;28mself\u001b[39m\u001b[38;5;241m.\u001b[39m_fit_model_breslow(\u001b[38;5;241m*\u001b[39margs, \u001b[38;5;241m*\u001b[39m\u001b[38;5;241m*\u001b[39mkwargs)\n\u001b[1;32m    611\u001b[0m     \u001b[38;5;28;01melif\u001b[39;00m \u001b[38;5;28mself\u001b[39m\u001b[38;5;241m.\u001b[39mbaseline_estimation_method \u001b[38;5;241m==\u001b[39m \u001b[38;5;124m\"\u001b[39m\u001b[38;5;124mspline\u001b[39m\u001b[38;5;124m\"\u001b[39m:\n\u001b[1;32m    612\u001b[0m         \u001b[38;5;28;01mreturn\u001b[39;00m \u001b[38;5;28mself\u001b[39m\u001b[38;5;241m.\u001b[39m_fit_model_spline(\u001b[38;5;241m*\u001b[39margs, \u001b[38;5;241m*\u001b[39m\u001b[38;5;241m*\u001b[39mkwargs)\n",
      "File \u001b[0;32m~/anaconda3/lib/python3.11/site-packages/lifelines/fitters/coxph_fitter.py:623\u001b[0m, in \u001b[0;36mCoxPHFitter._fit_model_breslow\u001b[0;34m(self, *args, **kwargs)\u001b[0m\n\u001b[1;32m    619\u001b[0m model \u001b[38;5;241m=\u001b[39m SemiParametricPHFitter(\n\u001b[1;32m    620\u001b[0m     penalizer\u001b[38;5;241m=\u001b[39m\u001b[38;5;28mself\u001b[39m\u001b[38;5;241m.\u001b[39mpenalizer, l1_ratio\u001b[38;5;241m=\u001b[39m\u001b[38;5;28mself\u001b[39m\u001b[38;5;241m.\u001b[39ml1_ratio, strata\u001b[38;5;241m=\u001b[39m\u001b[38;5;28mself\u001b[39m\u001b[38;5;241m.\u001b[39mstrata, alpha\u001b[38;5;241m=\u001b[39m\u001b[38;5;28mself\u001b[39m\u001b[38;5;241m.\u001b[39malpha, label\u001b[38;5;241m=\u001b[39m\u001b[38;5;28mself\u001b[39m\u001b[38;5;241m.\u001b[39m_label\n\u001b[1;32m    621\u001b[0m )\n\u001b[1;32m    622\u001b[0m \u001b[38;5;28;01mif\u001b[39;00m utils\u001b[38;5;241m.\u001b[39mCensoringType\u001b[38;5;241m.\u001b[39mis_right_censoring(\u001b[38;5;28mself\u001b[39m):\n\u001b[0;32m--> 623\u001b[0m     model\u001b[38;5;241m.\u001b[39mfit(\u001b[38;5;241m*\u001b[39margs, \u001b[38;5;241m*\u001b[39m\u001b[38;5;241m*\u001b[39mkwargs)\n\u001b[1;32m    624\u001b[0m     \u001b[38;5;28;01mreturn\u001b[39;00m model\n\u001b[1;32m    625\u001b[0m \u001b[38;5;28;01melse\u001b[39;00m:\n",
      "File \u001b[0;32m~/anaconda3/lib/python3.11/site-packages/lifelines/utils/__init__.py:56\u001b[0m, in \u001b[0;36mCensoringType.right_censoring.<locals>.f\u001b[0;34m(model, *args, **kwargs)\u001b[0m\n\u001b[1;32m     53\u001b[0m \u001b[38;5;129m@wraps\u001b[39m(function)\n\u001b[1;32m     54\u001b[0m \u001b[38;5;28;01mdef\u001b[39;00m \u001b[38;5;21mf\u001b[39m(model, \u001b[38;5;241m*\u001b[39margs, \u001b[38;5;241m*\u001b[39m\u001b[38;5;241m*\u001b[39mkwargs):\n\u001b[1;32m     55\u001b[0m     \u001b[38;5;28mcls\u001b[39m\u001b[38;5;241m.\u001b[39mset_censoring_type(model, \u001b[38;5;28mcls\u001b[39m\u001b[38;5;241m.\u001b[39mRIGHT)\n\u001b[0;32m---> 56\u001b[0m     \u001b[38;5;28;01mreturn\u001b[39;00m function(model, \u001b[38;5;241m*\u001b[39margs, \u001b[38;5;241m*\u001b[39m\u001b[38;5;241m*\u001b[39mkwargs)\n",
      "File \u001b[0;32m~/anaconda3/lib/python3.11/site-packages/lifelines/fitters/coxph_fitter.py:1229\u001b[0m, in \u001b[0;36mSemiParametricPHFitter.fit\u001b[0;34m(self, df, duration_col, event_col, show_progress, initial_point, strata, weights_col, cluster_col, robust, batch_mode, timeline, formula, entry_col, fit_options)\u001b[0m\n\u001b[1;32m   1226\u001b[0m \u001b[38;5;28mself\u001b[39m\u001b[38;5;241m.\u001b[39mformula \u001b[38;5;241m=\u001b[39m formula\n\u001b[1;32m   1227\u001b[0m \u001b[38;5;28mself\u001b[39m\u001b[38;5;241m.\u001b[39mentry_col \u001b[38;5;241m=\u001b[39m entry_col\n\u001b[0;32m-> 1229\u001b[0m X, T, E, weights, entries, original_index, \u001b[38;5;28mself\u001b[39m\u001b[38;5;241m.\u001b[39m_clusters \u001b[38;5;241m=\u001b[39m \u001b[38;5;28mself\u001b[39m\u001b[38;5;241m.\u001b[39m_preprocess_dataframe(df)\n\u001b[1;32m   1231\u001b[0m \u001b[38;5;28mself\u001b[39m\u001b[38;5;241m.\u001b[39mdurations \u001b[38;5;241m=\u001b[39m T\u001b[38;5;241m.\u001b[39mcopy()\n\u001b[1;32m   1232\u001b[0m \u001b[38;5;28mself\u001b[39m\u001b[38;5;241m.\u001b[39mevent_observed \u001b[38;5;241m=\u001b[39m E\u001b[38;5;241m.\u001b[39mcopy()\n",
      "File \u001b[0;32m~/anaconda3/lib/python3.11/site-packages/lifelines/fitters/coxph_fitter.py:1326\u001b[0m, in \u001b[0;36mSemiParametricPHFitter._preprocess_dataframe\u001b[0;34m(self, df)\u001b[0m\n\u001b[1;32m   1323\u001b[0m _clusters \u001b[38;5;241m=\u001b[39m df\u001b[38;5;241m.\u001b[39mpop(\u001b[38;5;28mself\u001b[39m\u001b[38;5;241m.\u001b[39mcluster_col)\u001b[38;5;241m.\u001b[39mvalues \u001b[38;5;28;01mif\u001b[39;00m \u001b[38;5;28mself\u001b[39m\u001b[38;5;241m.\u001b[39mcluster_col \u001b[38;5;28;01melse\u001b[39;00m \u001b[38;5;28;01mNone\u001b[39;00m\n\u001b[1;32m   1325\u001b[0m \u001b[38;5;28mself\u001b[39m\u001b[38;5;241m.\u001b[39mregressors \u001b[38;5;241m=\u001b[39m utils\u001b[38;5;241m.\u001b[39mCovariateParameterMappings({\u001b[38;5;124m\"\u001b[39m\u001b[38;5;124mbeta_\u001b[39m\u001b[38;5;124m\"\u001b[39m: \u001b[38;5;28mself\u001b[39m\u001b[38;5;241m.\u001b[39mformula}, df, force_no_intercept\u001b[38;5;241m=\u001b[39m\u001b[38;5;28;01mTrue\u001b[39;00m)\n\u001b[0;32m-> 1326\u001b[0m X \u001b[38;5;241m=\u001b[39m \u001b[38;5;28mself\u001b[39m\u001b[38;5;241m.\u001b[39mregressors\u001b[38;5;241m.\u001b[39mtransform_df(df)[\u001b[38;5;124m\"\u001b[39m\u001b[38;5;124mbeta_\u001b[39m\u001b[38;5;124m\"\u001b[39m]\n\u001b[1;32m   1328\u001b[0m T \u001b[38;5;241m=\u001b[39m T\u001b[38;5;241m.\u001b[39mastype(\u001b[38;5;28mfloat\u001b[39m)\n\u001b[1;32m   1330\u001b[0m \u001b[38;5;66;03m# we check nans here because converting to bools maps NaNs to True..\u001b[39;00m\n",
      "File \u001b[0;32m~/anaconda3/lib/python3.11/site-packages/lifelines/utils/__init__.py:1930\u001b[0m, in \u001b[0;36mCovariateParameterMappings.transform_df\u001b[0;34m(self, df)\u001b[0m\n\u001b[1;32m   1926\u001b[0m     Xs[param_name] \u001b[38;5;241m=\u001b[39m X\n\u001b[1;32m   1928\u001b[0m \u001b[38;5;66;03m# in pandas 0.23.4, the Xs as a dict is sorted differently from the Xs as a DataFrame's columns\u001b[39;00m\n\u001b[1;32m   1929\u001b[0m \u001b[38;5;66;03m# hence we need to reorder, see https://github.com/CamDavidsonPilon/lifelines/issues/931\u001b[39;00m\n\u001b[0;32m-> 1930\u001b[0m Xs_df \u001b[38;5;241m=\u001b[39m pd\u001b[38;5;241m.\u001b[39mconcat(Xs, axis\u001b[38;5;241m=\u001b[39m\u001b[38;5;241m1\u001b[39m, names\u001b[38;5;241m=\u001b[39m(\u001b[38;5;124m\"\u001b[39m\u001b[38;5;124mparam\u001b[39m\u001b[38;5;124m\"\u001b[39m, \u001b[38;5;124m\"\u001b[39m\u001b[38;5;124mcovariate\u001b[39m\u001b[38;5;124m\"\u001b[39m))\u001b[38;5;241m.\u001b[39mastype(\u001b[38;5;28mfloat\u001b[39m)\n\u001b[1;32m   1932\u001b[0m \u001b[38;5;66;03m# we can't concat empty dataframes and return a column MultiIndex,\u001b[39;00m\n\u001b[1;32m   1933\u001b[0m \u001b[38;5;66;03m# so we create a \"fake\" dataframe (acts like a dataframe) to return.\u001b[39;00m\n\u001b[1;32m   1934\u001b[0m \u001b[38;5;66;03m# This should be removed because it's gross.\u001b[39;00m\n\u001b[1;32m   1935\u001b[0m \u001b[38;5;28;01mif\u001b[39;00m Xs_df\u001b[38;5;241m.\u001b[39msize \u001b[38;5;241m==\u001b[39m \u001b[38;5;241m0\u001b[39m:\n",
      "File \u001b[0;32m~/anaconda3/lib/python3.11/site-packages/pandas/core/generic.py:6324\u001b[0m, in \u001b[0;36mNDFrame.astype\u001b[0;34m(self, dtype, copy, errors)\u001b[0m\n\u001b[1;32m   6317\u001b[0m     results \u001b[38;5;241m=\u001b[39m [\n\u001b[1;32m   6318\u001b[0m         \u001b[38;5;28mself\u001b[39m\u001b[38;5;241m.\u001b[39miloc[:, i]\u001b[38;5;241m.\u001b[39mastype(dtype, copy\u001b[38;5;241m=\u001b[39mcopy)\n\u001b[1;32m   6319\u001b[0m         \u001b[38;5;28;01mfor\u001b[39;00m i \u001b[38;5;129;01min\u001b[39;00m \u001b[38;5;28mrange\u001b[39m(\u001b[38;5;28mlen\u001b[39m(\u001b[38;5;28mself\u001b[39m\u001b[38;5;241m.\u001b[39mcolumns))\n\u001b[1;32m   6320\u001b[0m     ]\n\u001b[1;32m   6322\u001b[0m \u001b[38;5;28;01melse\u001b[39;00m:\n\u001b[1;32m   6323\u001b[0m     \u001b[38;5;66;03m# else, only a single dtype is given\u001b[39;00m\n\u001b[0;32m-> 6324\u001b[0m     new_data \u001b[38;5;241m=\u001b[39m \u001b[38;5;28mself\u001b[39m\u001b[38;5;241m.\u001b[39m_mgr\u001b[38;5;241m.\u001b[39mastype(dtype\u001b[38;5;241m=\u001b[39mdtype, copy\u001b[38;5;241m=\u001b[39mcopy, errors\u001b[38;5;241m=\u001b[39merrors)\n\u001b[1;32m   6325\u001b[0m     \u001b[38;5;28;01mreturn\u001b[39;00m \u001b[38;5;28mself\u001b[39m\u001b[38;5;241m.\u001b[39m_constructor(new_data)\u001b[38;5;241m.\u001b[39m__finalize__(\u001b[38;5;28mself\u001b[39m, method\u001b[38;5;241m=\u001b[39m\u001b[38;5;124m\"\u001b[39m\u001b[38;5;124mastype\u001b[39m\u001b[38;5;124m\"\u001b[39m)\n\u001b[1;32m   6327\u001b[0m \u001b[38;5;66;03m# GH 33113: handle empty frame or series\u001b[39;00m\n",
      "File \u001b[0;32m~/anaconda3/lib/python3.11/site-packages/pandas/core/internals/managers.py:451\u001b[0m, in \u001b[0;36mBaseBlockManager.astype\u001b[0;34m(self, dtype, copy, errors)\u001b[0m\n\u001b[1;32m    448\u001b[0m \u001b[38;5;28;01melif\u001b[39;00m using_copy_on_write():\n\u001b[1;32m    449\u001b[0m     copy \u001b[38;5;241m=\u001b[39m \u001b[38;5;28;01mFalse\u001b[39;00m\n\u001b[0;32m--> 451\u001b[0m \u001b[38;5;28;01mreturn\u001b[39;00m \u001b[38;5;28mself\u001b[39m\u001b[38;5;241m.\u001b[39mapply(\n\u001b[1;32m    452\u001b[0m     \u001b[38;5;124m\"\u001b[39m\u001b[38;5;124mastype\u001b[39m\u001b[38;5;124m\"\u001b[39m,\n\u001b[1;32m    453\u001b[0m     dtype\u001b[38;5;241m=\u001b[39mdtype,\n\u001b[1;32m    454\u001b[0m     copy\u001b[38;5;241m=\u001b[39mcopy,\n\u001b[1;32m    455\u001b[0m     errors\u001b[38;5;241m=\u001b[39merrors,\n\u001b[1;32m    456\u001b[0m     using_cow\u001b[38;5;241m=\u001b[39musing_copy_on_write(),\n\u001b[1;32m    457\u001b[0m )\n",
      "File \u001b[0;32m~/anaconda3/lib/python3.11/site-packages/pandas/core/internals/managers.py:352\u001b[0m, in \u001b[0;36mBaseBlockManager.apply\u001b[0;34m(self, f, align_keys, **kwargs)\u001b[0m\n\u001b[1;32m    350\u001b[0m         applied \u001b[38;5;241m=\u001b[39m b\u001b[38;5;241m.\u001b[39mapply(f, \u001b[38;5;241m*\u001b[39m\u001b[38;5;241m*\u001b[39mkwargs)\n\u001b[1;32m    351\u001b[0m     \u001b[38;5;28;01melse\u001b[39;00m:\n\u001b[0;32m--> 352\u001b[0m         applied \u001b[38;5;241m=\u001b[39m \u001b[38;5;28mgetattr\u001b[39m(b, f)(\u001b[38;5;241m*\u001b[39m\u001b[38;5;241m*\u001b[39mkwargs)\n\u001b[1;32m    353\u001b[0m     result_blocks \u001b[38;5;241m=\u001b[39m extend_blocks(applied, result_blocks)\n\u001b[1;32m    355\u001b[0m out \u001b[38;5;241m=\u001b[39m \u001b[38;5;28mtype\u001b[39m(\u001b[38;5;28mself\u001b[39m)\u001b[38;5;241m.\u001b[39mfrom_blocks(result_blocks, \u001b[38;5;28mself\u001b[39m\u001b[38;5;241m.\u001b[39maxes)\n",
      "File \u001b[0;32m~/anaconda3/lib/python3.11/site-packages/pandas/core/internals/blocks.py:511\u001b[0m, in \u001b[0;36mBlock.astype\u001b[0;34m(self, dtype, copy, errors, using_cow)\u001b[0m\n\u001b[1;32m    491\u001b[0m \u001b[38;5;250m\u001b[39m\u001b[38;5;124;03m\"\"\"\u001b[39;00m\n\u001b[1;32m    492\u001b[0m \u001b[38;5;124;03mCoerce to the new dtype.\u001b[39;00m\n\u001b[1;32m    493\u001b[0m \n\u001b[0;32m   (...)\u001b[0m\n\u001b[1;32m    507\u001b[0m \u001b[38;5;124;03mBlock\u001b[39;00m\n\u001b[1;32m    508\u001b[0m \u001b[38;5;124;03m\"\"\"\u001b[39;00m\n\u001b[1;32m    509\u001b[0m values \u001b[38;5;241m=\u001b[39m \u001b[38;5;28mself\u001b[39m\u001b[38;5;241m.\u001b[39mvalues\n\u001b[0;32m--> 511\u001b[0m new_values \u001b[38;5;241m=\u001b[39m astype_array_safe(values, dtype, copy\u001b[38;5;241m=\u001b[39mcopy, errors\u001b[38;5;241m=\u001b[39merrors)\n\u001b[1;32m    513\u001b[0m new_values \u001b[38;5;241m=\u001b[39m maybe_coerce_values(new_values)\n\u001b[1;32m    515\u001b[0m refs \u001b[38;5;241m=\u001b[39m \u001b[38;5;28;01mNone\u001b[39;00m\n",
      "File \u001b[0;32m~/anaconda3/lib/python3.11/site-packages/pandas/core/dtypes/astype.py:242\u001b[0m, in \u001b[0;36mastype_array_safe\u001b[0;34m(values, dtype, copy, errors)\u001b[0m\n\u001b[1;32m    239\u001b[0m     dtype \u001b[38;5;241m=\u001b[39m dtype\u001b[38;5;241m.\u001b[39mnumpy_dtype\n\u001b[1;32m    241\u001b[0m \u001b[38;5;28;01mtry\u001b[39;00m:\n\u001b[0;32m--> 242\u001b[0m     new_values \u001b[38;5;241m=\u001b[39m astype_array(values, dtype, copy\u001b[38;5;241m=\u001b[39mcopy)\n\u001b[1;32m    243\u001b[0m \u001b[38;5;28;01mexcept\u001b[39;00m (\u001b[38;5;167;01mValueError\u001b[39;00m, \u001b[38;5;167;01mTypeError\u001b[39;00m):\n\u001b[1;32m    244\u001b[0m     \u001b[38;5;66;03m# e.g. _astype_nansafe can fail on object-dtype of strings\u001b[39;00m\n\u001b[1;32m    245\u001b[0m     \u001b[38;5;66;03m#  trying to convert to float\u001b[39;00m\n\u001b[1;32m    246\u001b[0m     \u001b[38;5;28;01mif\u001b[39;00m errors \u001b[38;5;241m==\u001b[39m \u001b[38;5;124m\"\u001b[39m\u001b[38;5;124mignore\u001b[39m\u001b[38;5;124m\"\u001b[39m:\n",
      "File \u001b[0;32m~/anaconda3/lib/python3.11/site-packages/pandas/core/dtypes/astype.py:187\u001b[0m, in \u001b[0;36mastype_array\u001b[0;34m(values, dtype, copy)\u001b[0m\n\u001b[1;32m    184\u001b[0m     values \u001b[38;5;241m=\u001b[39m values\u001b[38;5;241m.\u001b[39mastype(dtype, copy\u001b[38;5;241m=\u001b[39mcopy)\n\u001b[1;32m    186\u001b[0m \u001b[38;5;28;01melse\u001b[39;00m:\n\u001b[0;32m--> 187\u001b[0m     values \u001b[38;5;241m=\u001b[39m _astype_nansafe(values, dtype, copy\u001b[38;5;241m=\u001b[39mcopy)\n\u001b[1;32m    189\u001b[0m \u001b[38;5;66;03m# in pandas we don't store numpy str dtypes, so convert to object\u001b[39;00m\n\u001b[1;32m    190\u001b[0m \u001b[38;5;28;01mif\u001b[39;00m \u001b[38;5;28misinstance\u001b[39m(dtype, np\u001b[38;5;241m.\u001b[39mdtype) \u001b[38;5;129;01mand\u001b[39;00m \u001b[38;5;28missubclass\u001b[39m(values\u001b[38;5;241m.\u001b[39mdtype\u001b[38;5;241m.\u001b[39mtype, \u001b[38;5;28mstr\u001b[39m):\n",
      "File \u001b[0;32m~/anaconda3/lib/python3.11/site-packages/pandas/core/dtypes/astype.py:138\u001b[0m, in \u001b[0;36m_astype_nansafe\u001b[0;34m(arr, dtype, copy, skipna)\u001b[0m\n\u001b[1;32m    134\u001b[0m     \u001b[38;5;28;01mraise\u001b[39;00m \u001b[38;5;167;01mValueError\u001b[39;00m(msg)\n\u001b[1;32m    136\u001b[0m \u001b[38;5;28;01mif\u001b[39;00m copy \u001b[38;5;129;01mor\u001b[39;00m is_object_dtype(arr\u001b[38;5;241m.\u001b[39mdtype) \u001b[38;5;129;01mor\u001b[39;00m is_object_dtype(dtype):\n\u001b[1;32m    137\u001b[0m     \u001b[38;5;66;03m# Explicit copy, or required since NumPy can't view from / to object.\u001b[39;00m\n\u001b[0;32m--> 138\u001b[0m     \u001b[38;5;28;01mreturn\u001b[39;00m arr\u001b[38;5;241m.\u001b[39mastype(dtype, copy\u001b[38;5;241m=\u001b[39m\u001b[38;5;28;01mTrue\u001b[39;00m)\n\u001b[1;32m    140\u001b[0m \u001b[38;5;28;01mreturn\u001b[39;00m arr\u001b[38;5;241m.\u001b[39mastype(dtype, copy\u001b[38;5;241m=\u001b[39mcopy)\n",
      "\u001b[0;31mValueError\u001b[0m: could not convert string to float: 'TP53'"
     ]
    }
   ],
   "source": [
    "# Fit the Cox Proportional Hazards model\n",
    "cph = CoxPHFitter()\n",
    "cph.fit(df, duration_col='OS from weeks 4', event_col='Status OS', show_progress=True)\n",
    "\n",
    "# Print the summary of the model\n",
    "print(cph.summary)\n",
    "\n",
    "# Plot the coefficients of the model\n",
    "cph.plot()\n",
    "\n",
    "# Show the plot\n",
    "plt.show()"
   ]
  },
  {
   "cell_type": "markdown",
   "id": "404ab994",
   "metadata": {},
   "source": [
    "# Train Test Split"
   ]
  },
  {
   "cell_type": "markdown",
   "id": "a2be5fe9",
   "metadata": {},
   "source": [
    "### Only using CTCs count and age as predictors to see"
   ]
  },
  {
   "cell_type": "code",
   "execution_count": 48,
   "id": "66072056",
   "metadata": {},
   "outputs": [],
   "source": [
    "from sklearn.model_selection import train_test_split\n",
    "\n",
    "X = df[[\"CTCs counts at baseline\", \"AGE\"]]\n",
    "y = df[\"OS from weeks 4\"]\n",
    "\n",
    "X_train, X_test, y_train, y_test = train_test_split(X, y, test_size=0.20)"
   ]
  },
  {
   "cell_type": "code",
   "execution_count": 49,
   "id": "4a41ba3d",
   "metadata": {},
   "outputs": [],
   "source": [
    "from sklearn.linear_model import LinearRegression\n",
    "\n",
    "lr = LinearRegression()\n",
    "\n",
    "lr.fit(X_train, y_train)\n",
    "\n",
    "Y_pred_lr = lr.predict(X_test)"
   ]
  },
  {
   "cell_type": "code",
   "execution_count": 52,
   "id": "6474c6fc",
   "metadata": {},
   "outputs": [
    {
     "name": "stdout",
     "output_type": "stream",
     "text": [
      "Predicted Value: 28.735297105037343\n"
     ]
    },
    {
     "name": "stderr",
     "output_type": "stream",
     "text": [
      "/home/rburke/anaconda3/lib/python3.11/site-packages/sklearn/base.py:464: UserWarning: X does not have valid feature names, but LinearRegression was fitted with feature names\n",
      "  warnings.warn(\n"
     ]
    }
   ],
   "source": [
    "new_data = [[1500, 20]]  # Replace with actual feature values\n",
    "\n",
    "# Predict the response for new data\n",
    "predicted_value = lr.predict(new_data)\n",
    "\n",
    "# Output the predicted value\n",
    "print(\"Predicted Value:\", predicted_value[0])"
   ]
  },
  {
   "cell_type": "markdown",
   "id": "03f76b40",
   "metadata": {},
   "source": [
    "## Evaluation of Linear Regression Model"
   ]
  },
  {
   "cell_type": "markdown",
   "id": "f59dd5ef",
   "metadata": {},
   "source": [
    "### Calculating: Mean Absolute Error (MAE), Mean Squared Error (MSE), Root Mean Squared Error (RMSE), Coefficient of Determination (R^2 Score)"
   ]
  },
  {
   "cell_type": "markdown",
   "id": "4c4baffb",
   "metadata": {},
   "source": [
    "**Importing libraries**"
   ]
  },
  {
   "cell_type": "code",
   "execution_count": 57,
   "id": "e57604da",
   "metadata": {},
   "outputs": [],
   "source": [
    "from sklearn.metrics import mean_squared_error, mean_absolute_error, r2_score"
   ]
  },
  {
   "cell_type": "markdown",
   "id": "4ba6046b",
   "metadata": {},
   "source": [
    "**Predict Test Set**"
   ]
  },
  {
   "cell_type": "code",
   "execution_count": 58,
   "id": "bf2b414d",
   "metadata": {},
   "outputs": [],
   "source": [
    "Y_pred = lr.predict(X_test)"
   ]
  },
  {
   "cell_type": "markdown",
   "id": "39ba12c4",
   "metadata": {},
   "source": [
    "**Calculate and predict evaluation metrics**"
   ]
  },
  {
   "cell_type": "code",
   "execution_count": 59,
   "id": "566dd27d",
   "metadata": {},
   "outputs": [
    {
     "name": "stdout",
     "output_type": "stream",
     "text": [
      "Mean Absolute Error: 13.288829968651404\n",
      "Mean Squared Error: 252.3849759361139\n",
      "Root Mean Squared Error: 15.886628841139139\n",
      "R^2 Score: -0.01678193306269482\n"
     ]
    }
   ],
   "source": [
    "# Mean Absolute Error (MAE)\n",
    "mae = mean_absolute_error(y_test, Y_pred)\n",
    "print(\"Mean Absolute Error:\", mae)\n",
    "\n",
    "# Mean Squared Error (MSE) and Root Mean Squared Error (RMSE)\n",
    "mse = mean_squared_error(y_test, Y_pred)\n",
    "rmse = mse ** 0.5\n",
    "print(\"Mean Squared Error:\", mse)\n",
    "print(\"Root Mean Squared Error:\", rmse)\n",
    "\n",
    "# Coefficient of Determination (R² Score)\n",
    "r2 = r2_score(y_test, Y_pred)\n",
    "print(\"R^2 Score:\", r2)"
   ]
  },
  {
   "cell_type": "markdown",
   "id": "b2caea95",
   "metadata": {},
   "source": [
    "#### Interpretation of Evaluation Metrics"
   ]
  },
  {
   "cell_type": "markdown",
   "id": "7efb24db",
   "metadata": {},
   "source": [
    "**R² = -0.017:** The R² score is meant to indicate the proportion of variance in the dependent variable that is predictable from the independent variables. Values range from -∞ to 1, where:\n",
    "- 1 indicates perfect prediction.\n",
    "- 0 indicates that the model is no better than a model that would simply predict the mean of the target variable.\n",
    "- Negative values (like -0.017) suggest that the model is worse than just predicting the mean of the dependent variable. This could happen if your model is overfitting, poorly specified, or if the underlying assumptions of linear regression are being violated (e.g., non-linearity, correlated errors)."
   ]
  },
  {
   "cell_type": "markdown",
   "id": "42a44eae",
   "metadata": {},
   "source": [
    "**Mean Absolute Error (MAE):**\n",
    "MAE = 13.29: This means that on average, the predictions of your model are approximately 13.29 units away from the actual data points. Whether this is acceptable depends on the scale of the OS from weeks 4 variable (the target variable) and its typical values. For example, if OS from weeks 4 ranges from 0 to 100, an MAE of 13.29 might be considered high, but if the range is 0 to 1000, it might be more acceptable.\n",
    "\n",
    "**Mean Squared Error (MSE)**\n",
    "MSE = 252.38: This is the average of the squares of the errors. The higher the MSE, the worse the model's performance, as it indicates that the model is making errors with greater magnitude.\n",
    "\n",
    "**Root Mean Squared Error (RMSE):**\n",
    "RMSE = 15.89: Similar to MAE but gives more weight to larger errors. An RMSE of 15.89, like MAE, should be evaluated against the range and scale of the target values. It indicates that typical prediction errors are about 15.89 units, which should be contextualized against the data range."
   ]
  },
  {
   "cell_type": "markdown",
   "id": "d58c2749",
   "metadata": {},
   "source": [
    "## Overall Evaluation: Very Bad\n",
    "\n",
    "This result was expected as I was testing if I can actually create a functioning model, with a few features. I will add more and more and continue to evaluate to see if scores can be adjusteds into an acceptable range."
   ]
  },
  {
   "cell_type": "code",
   "execution_count": null,
   "id": "2641ae99",
   "metadata": {},
   "outputs": [],
   "source": []
  }
 ],
 "metadata": {
  "kernelspec": {
   "display_name": "Python 3 (ipykernel)",
   "language": "python",
   "name": "python3"
  },
  "language_info": {
   "codemirror_mode": {
    "name": "ipython",
    "version": 3
   },
   "file_extension": ".py",
   "mimetype": "text/x-python",
   "name": "python",
   "nbconvert_exporter": "python",
   "pygments_lexer": "ipython3",
   "version": "3.11.5"
  }
 },
 "nbformat": 4,
 "nbformat_minor": 5
}
